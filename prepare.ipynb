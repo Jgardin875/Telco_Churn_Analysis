{
 "cells": [
  {
   "cell_type": "code",
   "execution_count": 1,
   "id": "00e6bdce",
   "metadata": {},
   "outputs": [],
   "source": [
    "import env\n",
    "import pandas as pd\n",
    "import acquire\n",
    "\n",
    "from sklearn.model_selection import train_test_split"
   ]
  },
  {
   "cell_type": "code",
   "execution_count": 2,
   "id": "ca84e28b",
   "metadata": {},
   "outputs": [],
   "source": [
    "df = acquire.get_telco_data()"
   ]
  },
  {
   "cell_type": "markdown",
   "id": "6671befa",
   "metadata": {},
   "source": [
    "# Prep Telco\n",
    "\n",
    "- drop all 'id' columns\n",
    "- created dummy columns for:\n",
    "    - contract\n",
    "    - internet\n",
    "    - payment\n",
    "- dropped brand new customers who had no total payment values as they were too new\n",
    "- converted total charges to 'float' type\n",
    "- encoded binary catagory for:\n",
    "    - gender\n",
    "    - partner\n",
    "    - dependents\n",
    "    - phone services\n",
    "    - multiple_lines\n",
    "    - online_security\n",
    "    - online_backup\n",
    "    - device_protection\n",
    "    - tech_support\n",
    "    - streaming_tv\n",
    "    - streaming_movies\n",
    "    - paperless builing\n",
    "    - churn\n",
    "    "
   ]
  },
  {
   "cell_type": "code",
   "execution_count": 3,
   "id": "95e42bc1",
   "metadata": {},
   "outputs": [],
   "source": [
    "def prep_telco(df):\n",
    "    df.drop(columns = ['payment_type_id', 'internet_service_type_id', 'contract_type_id', 'customer_id'], inplace = True)\n",
    "    dummy_df = pd.get_dummies(df[['contract_type', 'internet_service_type', 'payment_type']], dummy_na=False, drop_first= False)\n",
    "    df = pd.concat([df, dummy_df], axis=1)\n",
    "    df = df[df.total_charges != ' ']\n",
    "    df.total_charges = df.total_charges.astype(float)\n",
    "    \n",
    "    \n",
    "    # encode binary categorical variables into numeric values\n",
    "    df['gender_encoded'] = df.gender.map({'Female': 1, 'Male': 0})\n",
    "    df['partner_encoded'] = df.partner.map({'Yes': 1, 'No': 0})\n",
    "    df['dependents_encoded'] = df.dependents.map({'Yes': 1, 'No': 0})\n",
    "    df['phone_service_encoded'] = df.phone_service.map({'Yes': 1, 'No': 0})\n",
    "    df['multiple_lines_encoded'] = df.multiple_lines.map({'Yes': 1, 'No': 0, 'No phone service': 3})\n",
    "    df['online_security_encoded'] = df.online_security.map({'Yes': 1, 'No': 0, 'No internet service': 3})\n",
    "    df['online_backup_encoded'] = df.online_backup.map({'Yes': 1, 'No': 0, 'No internet service': 3})\n",
    "    df['device_protection_encoded'] = df.device_protection.map({'Yes': 1, 'No': 0, 'No internet service': 3})\n",
    "    df['tech_support_encoded'] = df.tech_support.map({'Yes': 1, 'No': 0, 'No internet service': 3})\n",
    "    df['streaming_tv_encoded'] = df.streaming_tv.map({'Yes': 1, 'No': 0, 'No internet service': 3})\n",
    "    df['streaming_movies_encoded'] = df.streaming_movies.map({'Yes': 1, 'No': 0, 'No internet service': 3})\n",
    "    df['paperless_billing_encoded'] = df.paperless_billing.map({'Yes': 1, 'No': 0})\n",
    "    df['churn_encoded'] = df.churn.map({'Yes': 1, 'No': 0})\n",
    "    df.drop(columns = 'churn', inplace = True)\n",
    "    return df\n"
   ]
  },
  {
   "cell_type": "code",
   "execution_count": 4,
   "id": "d98329cb",
   "metadata": {},
   "outputs": [],
   "source": [
    "df = acquire.get_telco_data()"
   ]
  },
  {
   "cell_type": "code",
   "execution_count": 5,
   "id": "652b68f7",
   "metadata": {},
   "outputs": [],
   "source": [
    "df = prep_telco(df)"
   ]
  },
  {
   "cell_type": "markdown",
   "id": "1de3dc65",
   "metadata": {},
   "source": [
    "# Split Telco\n",
    "\n",
    "- 20% of data into test group\n",
    "- 30% of remaining data into validate group (30% of 80% = 24% of total data)\n",
    "- 70% of remaining data into train group (70% of 80% = 56% of total data)\n"
   ]
  },
  {
   "cell_type": "code",
   "execution_count": 6,
   "id": "4f474fa0",
   "metadata": {},
   "outputs": [],
   "source": [
    "def split_telco_data(df):\n",
    "    '''\n",
    "    This function performs split on telco data, stratify churn.\n",
    "    Returns train, validate, and test dfs.\n",
    "    '''\n",
    "    train_validate, test = train_test_split(df, test_size=.2, \n",
    "                                        random_state=123, \n",
    "                                        stratify=df.churn_encoded)\n",
    "    train, validate = train_test_split(train_validate, test_size=.3, \n",
    "                                   random_state=123, \n",
    "                                   stratify=train_validate.churn_encoded)\n",
    "    return train, validate, test"
   ]
  },
  {
   "cell_type": "code",
   "execution_count": 7,
   "id": "1b039917",
   "metadata": {
    "scrolled": true
   },
   "outputs": [],
   "source": [
    "train, validate, test = split_telco_data(df)"
   ]
  },
  {
   "cell_type": "code",
   "execution_count": 8,
   "id": "6b5a3ff8",
   "metadata": {},
   "outputs": [
    {
     "data": {
      "text/plain": [
       "((7032, 42), (3937, 42), (1688, 42), (1407, 42))"
      ]
     },
     "execution_count": 8,
     "metadata": {},
     "output_type": "execute_result"
    }
   ],
   "source": [
    "df.shape, train.shape, validate.shape, test.shape"
   ]
  },
  {
   "cell_type": "code",
   "execution_count": null,
   "id": "8418f9ca",
   "metadata": {},
   "outputs": [],
   "source": []
  },
  {
   "cell_type": "code",
   "execution_count": null,
   "id": "c5228652",
   "metadata": {},
   "outputs": [],
   "source": []
  }
 ],
 "metadata": {
  "kernelspec": {
   "display_name": "Python 3 (ipykernel)",
   "language": "python",
   "name": "python3"
  },
  "language_info": {
   "codemirror_mode": {
    "name": "ipython",
    "version": 3
   },
   "file_extension": ".py",
   "mimetype": "text/x-python",
   "name": "python",
   "nbconvert_exporter": "python",
   "pygments_lexer": "ipython3",
   "version": "3.9.12"
  }
 },
 "nbformat": 4,
 "nbformat_minor": 5
}
